{
 "cells": [
  {
   "cell_type": "code",
   "execution_count": 1,
   "metadata": {},
   "outputs": [],
   "source": [
    "import pandas as pd\n",
    "import numpy as np\n"
   ]
  },
  {
   "cell_type": "code",
   "execution_count": 2,
   "metadata": {},
   "outputs": [
    {
     "name": "stdout",
     "output_type": "stream",
     "text": [
      "   Product_ID      Product_Name Product_Category Product_Cost Product_Price\n",
      "0           1     Action Figure             Toys       $9.99        $15.99 \n",
      "1           2    Animal Figures             Toys       $9.99        $12.99 \n",
      "2           3   Barrel O' Slime     Art & Crafts       $1.99         $3.99 \n",
      "3           4  Chutes & Ladders            Games       $9.99        $12.99 \n",
      "4           5  Classic Dominoes            Games       $7.99         $9.99 \n",
      "   Sale_ID        Date  Store_ID  Product_ID  Units\n",
      "0        1  2022-01-01        24           4      1\n",
      "1        2  2022-01-01        28           1      1\n",
      "2        3  2022-01-01         6           8      1\n",
      "3        4  2022-01-01        48           7      1\n",
      "4        5  2022-01-01        44          18      1\n",
      "   Store_ID                Store_Name   Store_City Store_Location  \\\n",
      "0         1  Maven Toys Guadalajara 1  Guadalajara    Residential   \n",
      "1         2    Maven Toys Monterrey 1    Monterrey    Residential   \n",
      "2         3  Maven Toys Guadalajara 2  Guadalajara     Commercial   \n",
      "3         4     Maven Toys Saltillo 1     Saltillo       Downtown   \n",
      "4         5       Maven Toys La Paz 1       La Paz       Downtown   \n",
      "\n",
      "  Store_Open_Date  \n",
      "0      1992-09-18  \n",
      "1      1995-04-27  \n",
      "2      1999-12-27  \n",
      "3      2000-01-01  \n",
      "4      2001-05-31  \n"
     ]
    }
   ],
   "source": [
    "product_df = pd.read_csv('Dataset/products.csv')\n",
    "sales_df = pd.read_csv('Dataset/sales.csv')\n",
    "stores_df = pd.read_csv('Dataset/stores.csv')\n",
    "\n",
    "print(product_df.head(5))\n",
    "print(sales_df.head(5))\n",
    "print(stores_df.head(5))"
   ]
  },
  {
   "cell_type": "code",
   "execution_count": 3,
   "metadata": {},
   "outputs": [
    {
     "name": "stdout",
     "output_type": "stream",
     "text": [
      "Product_ID          0\n",
      "Product_Name        0\n",
      "Product_Category    0\n",
      "Product_Cost        0\n",
      "Product_Price       0\n",
      "dtype: int64\n",
      "Sale_ID       0\n",
      "Date          0\n",
      "Store_ID      0\n",
      "Product_ID    0\n",
      "Units         0\n",
      "dtype: int64\n",
      "Store_ID           0\n",
      "Store_Name         0\n",
      "Store_City         0\n",
      "Store_Location     0\n",
      "Store_Open_Date    0\n",
      "dtype: int64\n"
     ]
    }
   ],
   "source": [
    "print(product_df.isnull().sum())\n",
    "print(sales_df.isnull().sum())\n",
    "print(stores_df.isnull().sum())"
   ]
  },
  {
   "cell_type": "code",
   "execution_count": 4,
   "metadata": {},
   "outputs": [],
   "source": [
    "# Merge sales with products data on 'Product_ID'\n",
    "merged_df = pd.merge(sales_df, product_df, on='Product_ID', how='left')\n",
    "\n",
    "# Merge the result with stores data on 'Store_ID'\n",
    "final_df = pd.merge(merged_df, stores_df, on='Store_ID', how='left')"
   ]
  },
  {
   "cell_type": "code",
   "execution_count": 5,
   "metadata": {},
   "outputs": [
    {
     "data": {
      "text/html": [
       "<div>\n",
       "<style scoped>\n",
       "    .dataframe tbody tr th:only-of-type {\n",
       "        vertical-align: middle;\n",
       "    }\n",
       "\n",
       "    .dataframe tbody tr th {\n",
       "        vertical-align: top;\n",
       "    }\n",
       "\n",
       "    .dataframe thead th {\n",
       "        text-align: right;\n",
       "    }\n",
       "</style>\n",
       "<table border=\"1\" class=\"dataframe\">\n",
       "  <thead>\n",
       "    <tr style=\"text-align: right;\">\n",
       "      <th></th>\n",
       "      <th>Sale_ID</th>\n",
       "      <th>Date</th>\n",
       "      <th>Store_ID</th>\n",
       "      <th>Product_ID</th>\n",
       "      <th>Units</th>\n",
       "      <th>Product_Name</th>\n",
       "      <th>Product_Category</th>\n",
       "      <th>Product_Cost</th>\n",
       "      <th>Product_Price</th>\n",
       "      <th>Store_Name</th>\n",
       "      <th>Store_City</th>\n",
       "      <th>Store_Location</th>\n",
       "      <th>Store_Open_Date</th>\n",
       "    </tr>\n",
       "  </thead>\n",
       "  <tbody>\n",
       "    <tr>\n",
       "      <th>0</th>\n",
       "      <td>1</td>\n",
       "      <td>2022-01-01</td>\n",
       "      <td>24</td>\n",
       "      <td>4</td>\n",
       "      <td>1</td>\n",
       "      <td>Chutes &amp; Ladders</td>\n",
       "      <td>Games</td>\n",
       "      <td>$9.99</td>\n",
       "      <td>$12.99</td>\n",
       "      <td>Maven Toys Aguascalientes 1</td>\n",
       "      <td>Aguascalientes</td>\n",
       "      <td>Downtown</td>\n",
       "      <td>2010-07-31</td>\n",
       "    </tr>\n",
       "    <tr>\n",
       "      <th>1</th>\n",
       "      <td>2</td>\n",
       "      <td>2022-01-01</td>\n",
       "      <td>28</td>\n",
       "      <td>1</td>\n",
       "      <td>1</td>\n",
       "      <td>Action Figure</td>\n",
       "      <td>Toys</td>\n",
       "      <td>$9.99</td>\n",
       "      <td>$15.99</td>\n",
       "      <td>Maven Toys Puebla 2</td>\n",
       "      <td>Puebla</td>\n",
       "      <td>Downtown</td>\n",
       "      <td>2011-04-01</td>\n",
       "    </tr>\n",
       "    <tr>\n",
       "      <th>2</th>\n",
       "      <td>3</td>\n",
       "      <td>2022-01-01</td>\n",
       "      <td>6</td>\n",
       "      <td>8</td>\n",
       "      <td>1</td>\n",
       "      <td>Deck Of Cards</td>\n",
       "      <td>Games</td>\n",
       "      <td>$3.99</td>\n",
       "      <td>$6.99</td>\n",
       "      <td>Maven Toys Mexicali 1</td>\n",
       "      <td>Mexicali</td>\n",
       "      <td>Commercial</td>\n",
       "      <td>2003-12-13</td>\n",
       "    </tr>\n",
       "    <tr>\n",
       "      <th>3</th>\n",
       "      <td>4</td>\n",
       "      <td>2022-01-01</td>\n",
       "      <td>48</td>\n",
       "      <td>7</td>\n",
       "      <td>1</td>\n",
       "      <td>Dart Gun</td>\n",
       "      <td>Sports &amp; Outdoors</td>\n",
       "      <td>$11.99</td>\n",
       "      <td>$15.99</td>\n",
       "      <td>Maven Toys Saltillo 2</td>\n",
       "      <td>Saltillo</td>\n",
       "      <td>Commercial</td>\n",
       "      <td>2016-03-23</td>\n",
       "    </tr>\n",
       "    <tr>\n",
       "      <th>4</th>\n",
       "      <td>5</td>\n",
       "      <td>2022-01-01</td>\n",
       "      <td>44</td>\n",
       "      <td>18</td>\n",
       "      <td>1</td>\n",
       "      <td>Lego Bricks</td>\n",
       "      <td>Toys</td>\n",
       "      <td>$34.99</td>\n",
       "      <td>$39.99</td>\n",
       "      <td>Maven Toys Puebla 3</td>\n",
       "      <td>Puebla</td>\n",
       "      <td>Residential</td>\n",
       "      <td>2014-12-27</td>\n",
       "    </tr>\n",
       "  </tbody>\n",
       "</table>\n",
       "</div>"
      ],
      "text/plain": [
       "   Sale_ID        Date  Store_ID  Product_ID  Units      Product_Name  \\\n",
       "0        1  2022-01-01        24           4      1  Chutes & Ladders   \n",
       "1        2  2022-01-01        28           1      1     Action Figure   \n",
       "2        3  2022-01-01         6           8      1     Deck Of Cards   \n",
       "3        4  2022-01-01        48           7      1          Dart Gun   \n",
       "4        5  2022-01-01        44          18      1       Lego Bricks   \n",
       "\n",
       "    Product_Category Product_Cost Product_Price                   Store_Name  \\\n",
       "0              Games       $9.99        $12.99   Maven Toys Aguascalientes 1   \n",
       "1               Toys       $9.99        $15.99           Maven Toys Puebla 2   \n",
       "2              Games       $3.99         $6.99         Maven Toys Mexicali 1   \n",
       "3  Sports & Outdoors      $11.99        $15.99         Maven Toys Saltillo 2   \n",
       "4               Toys      $34.99        $39.99           Maven Toys Puebla 3   \n",
       "\n",
       "       Store_City Store_Location Store_Open_Date  \n",
       "0  Aguascalientes       Downtown      2010-07-31  \n",
       "1          Puebla       Downtown      2011-04-01  \n",
       "2        Mexicali     Commercial      2003-12-13  \n",
       "3        Saltillo     Commercial      2016-03-23  \n",
       "4          Puebla    Residential      2014-12-27  "
      ]
     },
     "execution_count": 5,
     "metadata": {},
     "output_type": "execute_result"
    }
   ],
   "source": [
    "final_df.head(5)"
   ]
  },
  {
   "cell_type": "code",
   "execution_count": 6,
   "metadata": {},
   "outputs": [
    {
     "data": {
      "text/plain": [
       "829262"
      ]
     },
     "execution_count": 6,
     "metadata": {},
     "output_type": "execute_result"
    }
   ],
   "source": [
    "len(final_df)"
   ]
  },
  {
   "cell_type": "code",
   "execution_count": 7,
   "metadata": {},
   "outputs": [
    {
     "name": "stderr",
     "output_type": "stream",
     "text": [
      "<>:2: SyntaxWarning: invalid escape sequence '\\$'\n",
      "<>:3: SyntaxWarning: invalid escape sequence '\\$'\n",
      "<>:2: SyntaxWarning: invalid escape sequence '\\$'\n",
      "<>:3: SyntaxWarning: invalid escape sequence '\\$'\n",
      "C:\\Users\\Abhishek\\AppData\\Local\\Temp\\ipykernel_11388\\4210858331.py:2: SyntaxWarning: invalid escape sequence '\\$'\n",
      "  final_df['Product_Cost'] = final_df['Product_Cost'].replace('[\\$,]', '', regex=True).astype(float)\n",
      "C:\\Users\\Abhishek\\AppData\\Local\\Temp\\ipykernel_11388\\4210858331.py:3: SyntaxWarning: invalid escape sequence '\\$'\n",
      "  final_df['Product_Price'] = final_df['Product_Price'].replace('[\\$,]', '', regex=True).astype(float)\n"
     ]
    },
    {
     "data": {
      "text/html": [
       "<div>\n",
       "<style scoped>\n",
       "    .dataframe tbody tr th:only-of-type {\n",
       "        vertical-align: middle;\n",
       "    }\n",
       "\n",
       "    .dataframe tbody tr th {\n",
       "        vertical-align: top;\n",
       "    }\n",
       "\n",
       "    .dataframe thead th {\n",
       "        text-align: right;\n",
       "    }\n",
       "</style>\n",
       "<table border=\"1\" class=\"dataframe\">\n",
       "  <thead>\n",
       "    <tr style=\"text-align: right;\">\n",
       "      <th></th>\n",
       "      <th>Sale_ID</th>\n",
       "      <th>Date</th>\n",
       "      <th>Store_ID</th>\n",
       "      <th>Product_ID</th>\n",
       "      <th>Units</th>\n",
       "      <th>Product_Name</th>\n",
       "      <th>Product_Category</th>\n",
       "      <th>Product_Cost</th>\n",
       "      <th>Product_Price</th>\n",
       "      <th>Store_Name</th>\n",
       "      <th>Store_City</th>\n",
       "      <th>Store_Location</th>\n",
       "      <th>Store_Open_Date</th>\n",
       "      <th>Year</th>\n",
       "      <th>Month</th>\n",
       "    </tr>\n",
       "  </thead>\n",
       "  <tbody>\n",
       "    <tr>\n",
       "      <th>0</th>\n",
       "      <td>1</td>\n",
       "      <td>2022-01-01</td>\n",
       "      <td>24</td>\n",
       "      <td>4</td>\n",
       "      <td>1</td>\n",
       "      <td>Chutes &amp; Ladders</td>\n",
       "      <td>Games</td>\n",
       "      <td>9.99</td>\n",
       "      <td>12.99</td>\n",
       "      <td>Maven Toys Aguascalientes 1</td>\n",
       "      <td>Aguascalientes</td>\n",
       "      <td>Downtown</td>\n",
       "      <td>2010-07-31</td>\n",
       "      <td>2022</td>\n",
       "      <td>1</td>\n",
       "    </tr>\n",
       "    <tr>\n",
       "      <th>1</th>\n",
       "      <td>2</td>\n",
       "      <td>2022-01-01</td>\n",
       "      <td>28</td>\n",
       "      <td>1</td>\n",
       "      <td>1</td>\n",
       "      <td>Action Figure</td>\n",
       "      <td>Toys</td>\n",
       "      <td>9.99</td>\n",
       "      <td>15.99</td>\n",
       "      <td>Maven Toys Puebla 2</td>\n",
       "      <td>Puebla</td>\n",
       "      <td>Downtown</td>\n",
       "      <td>2011-04-01</td>\n",
       "      <td>2022</td>\n",
       "      <td>1</td>\n",
       "    </tr>\n",
       "    <tr>\n",
       "      <th>2</th>\n",
       "      <td>3</td>\n",
       "      <td>2022-01-01</td>\n",
       "      <td>6</td>\n",
       "      <td>8</td>\n",
       "      <td>1</td>\n",
       "      <td>Deck Of Cards</td>\n",
       "      <td>Games</td>\n",
       "      <td>3.99</td>\n",
       "      <td>6.99</td>\n",
       "      <td>Maven Toys Mexicali 1</td>\n",
       "      <td>Mexicali</td>\n",
       "      <td>Commercial</td>\n",
       "      <td>2003-12-13</td>\n",
       "      <td>2022</td>\n",
       "      <td>1</td>\n",
       "    </tr>\n",
       "    <tr>\n",
       "      <th>3</th>\n",
       "      <td>4</td>\n",
       "      <td>2022-01-01</td>\n",
       "      <td>48</td>\n",
       "      <td>7</td>\n",
       "      <td>1</td>\n",
       "      <td>Dart Gun</td>\n",
       "      <td>Sports &amp; Outdoors</td>\n",
       "      <td>11.99</td>\n",
       "      <td>15.99</td>\n",
       "      <td>Maven Toys Saltillo 2</td>\n",
       "      <td>Saltillo</td>\n",
       "      <td>Commercial</td>\n",
       "      <td>2016-03-23</td>\n",
       "      <td>2022</td>\n",
       "      <td>1</td>\n",
       "    </tr>\n",
       "    <tr>\n",
       "      <th>4</th>\n",
       "      <td>5</td>\n",
       "      <td>2022-01-01</td>\n",
       "      <td>44</td>\n",
       "      <td>18</td>\n",
       "      <td>1</td>\n",
       "      <td>Lego Bricks</td>\n",
       "      <td>Toys</td>\n",
       "      <td>34.99</td>\n",
       "      <td>39.99</td>\n",
       "      <td>Maven Toys Puebla 3</td>\n",
       "      <td>Puebla</td>\n",
       "      <td>Residential</td>\n",
       "      <td>2014-12-27</td>\n",
       "      <td>2022</td>\n",
       "      <td>1</td>\n",
       "    </tr>\n",
       "  </tbody>\n",
       "</table>\n",
       "</div>"
      ],
      "text/plain": [
       "   Sale_ID       Date  Store_ID  Product_ID  Units      Product_Name  \\\n",
       "0        1 2022-01-01        24           4      1  Chutes & Ladders   \n",
       "1        2 2022-01-01        28           1      1     Action Figure   \n",
       "2        3 2022-01-01         6           8      1     Deck Of Cards   \n",
       "3        4 2022-01-01        48           7      1          Dart Gun   \n",
       "4        5 2022-01-01        44          18      1       Lego Bricks   \n",
       "\n",
       "    Product_Category  Product_Cost  Product_Price  \\\n",
       "0              Games          9.99          12.99   \n",
       "1               Toys          9.99          15.99   \n",
       "2              Games          3.99           6.99   \n",
       "3  Sports & Outdoors         11.99          15.99   \n",
       "4               Toys         34.99          39.99   \n",
       "\n",
       "                    Store_Name      Store_City Store_Location Store_Open_Date  \\\n",
       "0  Maven Toys Aguascalientes 1  Aguascalientes       Downtown      2010-07-31   \n",
       "1          Maven Toys Puebla 2          Puebla       Downtown      2011-04-01   \n",
       "2        Maven Toys Mexicali 1        Mexicali     Commercial      2003-12-13   \n",
       "3        Maven Toys Saltillo 2        Saltillo     Commercial      2016-03-23   \n",
       "4          Maven Toys Puebla 3          Puebla    Residential      2014-12-27   \n",
       "\n",
       "   Year  Month  \n",
       "0  2022      1  \n",
       "1  2022      1  \n",
       "2  2022      1  \n",
       "3  2022      1  \n",
       "4  2022      1  "
      ]
     },
     "execution_count": 7,
     "metadata": {},
     "output_type": "execute_result"
    }
   ],
   "source": [
    "# Remove dollar signs and convert 'Product_Cost' and 'Product_Price' to numeric\n",
    "final_df['Product_Cost'] = final_df['Product_Cost'].replace('[\\$,]', '', regex=True).astype(float)\n",
    "final_df['Product_Price'] = final_df['Product_Price'].replace('[\\$,]', '', regex=True).astype(float)\n",
    "\n",
    "# Convert 'Date' to datetime and extract year, month\n",
    "final_df['Date'] = pd.to_datetime(final_df['Date'])\n",
    "final_df['Year'] = final_df['Date'].dt.year\n",
    "final_df['Month'] = final_df['Date'].dt.month\n",
    "\n",
    "# Display the transformed DataFrame\n",
    "final_df.head(5)"
   ]
  },
  {
   "cell_type": "code",
   "execution_count": 8,
   "metadata": {},
   "outputs": [],
   "source": [
    "# Add profit column (Profit = (Product_Price - Product_Cost) * Units)\n",
    "final_df['Profit'] = (final_df['Product_Price'] - final_df['Product_Cost']) * final_df['Units']\n",
    "\n"
   ]
  },
  {
   "cell_type": "code",
   "execution_count": 9,
   "metadata": {},
   "outputs": [
    {
     "data": {
      "text/html": [
       "<div>\n",
       "<style scoped>\n",
       "    .dataframe tbody tr th:only-of-type {\n",
       "        vertical-align: middle;\n",
       "    }\n",
       "\n",
       "    .dataframe tbody tr th {\n",
       "        vertical-align: top;\n",
       "    }\n",
       "\n",
       "    .dataframe thead th {\n",
       "        text-align: right;\n",
       "    }\n",
       "</style>\n",
       "<table border=\"1\" class=\"dataframe\">\n",
       "  <thead>\n",
       "    <tr style=\"text-align: right;\">\n",
       "      <th></th>\n",
       "      <th>Sale_ID</th>\n",
       "      <th>Date</th>\n",
       "      <th>Store_ID</th>\n",
       "      <th>Product_ID</th>\n",
       "      <th>Units</th>\n",
       "      <th>Product_Name</th>\n",
       "      <th>Product_Category</th>\n",
       "      <th>Product_Cost</th>\n",
       "      <th>Product_Price</th>\n",
       "      <th>Store_Name</th>\n",
       "      <th>Store_City</th>\n",
       "      <th>Store_Location</th>\n",
       "      <th>Store_Open_Date</th>\n",
       "      <th>Year</th>\n",
       "      <th>Month</th>\n",
       "      <th>Profit</th>\n",
       "    </tr>\n",
       "  </thead>\n",
       "  <tbody>\n",
       "    <tr>\n",
       "      <th>0</th>\n",
       "      <td>1</td>\n",
       "      <td>2022-01-01</td>\n",
       "      <td>24</td>\n",
       "      <td>4</td>\n",
       "      <td>1</td>\n",
       "      <td>Chutes &amp; Ladders</td>\n",
       "      <td>Games</td>\n",
       "      <td>9.99</td>\n",
       "      <td>12.99</td>\n",
       "      <td>Maven Toys Aguascalientes 1</td>\n",
       "      <td>Aguascalientes</td>\n",
       "      <td>Downtown</td>\n",
       "      <td>2010-07-31</td>\n",
       "      <td>2022</td>\n",
       "      <td>1</td>\n",
       "      <td>3.0</td>\n",
       "    </tr>\n",
       "    <tr>\n",
       "      <th>1</th>\n",
       "      <td>2</td>\n",
       "      <td>2022-01-01</td>\n",
       "      <td>28</td>\n",
       "      <td>1</td>\n",
       "      <td>1</td>\n",
       "      <td>Action Figure</td>\n",
       "      <td>Toys</td>\n",
       "      <td>9.99</td>\n",
       "      <td>15.99</td>\n",
       "      <td>Maven Toys Puebla 2</td>\n",
       "      <td>Puebla</td>\n",
       "      <td>Downtown</td>\n",
       "      <td>2011-04-01</td>\n",
       "      <td>2022</td>\n",
       "      <td>1</td>\n",
       "      <td>6.0</td>\n",
       "    </tr>\n",
       "    <tr>\n",
       "      <th>2</th>\n",
       "      <td>3</td>\n",
       "      <td>2022-01-01</td>\n",
       "      <td>6</td>\n",
       "      <td>8</td>\n",
       "      <td>1</td>\n",
       "      <td>Deck Of Cards</td>\n",
       "      <td>Games</td>\n",
       "      <td>3.99</td>\n",
       "      <td>6.99</td>\n",
       "      <td>Maven Toys Mexicali 1</td>\n",
       "      <td>Mexicali</td>\n",
       "      <td>Commercial</td>\n",
       "      <td>2003-12-13</td>\n",
       "      <td>2022</td>\n",
       "      <td>1</td>\n",
       "      <td>3.0</td>\n",
       "    </tr>\n",
       "    <tr>\n",
       "      <th>3</th>\n",
       "      <td>4</td>\n",
       "      <td>2022-01-01</td>\n",
       "      <td>48</td>\n",
       "      <td>7</td>\n",
       "      <td>1</td>\n",
       "      <td>Dart Gun</td>\n",
       "      <td>Sports &amp; Outdoors</td>\n",
       "      <td>11.99</td>\n",
       "      <td>15.99</td>\n",
       "      <td>Maven Toys Saltillo 2</td>\n",
       "      <td>Saltillo</td>\n",
       "      <td>Commercial</td>\n",
       "      <td>2016-03-23</td>\n",
       "      <td>2022</td>\n",
       "      <td>1</td>\n",
       "      <td>4.0</td>\n",
       "    </tr>\n",
       "    <tr>\n",
       "      <th>4</th>\n",
       "      <td>5</td>\n",
       "      <td>2022-01-01</td>\n",
       "      <td>44</td>\n",
       "      <td>18</td>\n",
       "      <td>1</td>\n",
       "      <td>Lego Bricks</td>\n",
       "      <td>Toys</td>\n",
       "      <td>34.99</td>\n",
       "      <td>39.99</td>\n",
       "      <td>Maven Toys Puebla 3</td>\n",
       "      <td>Puebla</td>\n",
       "      <td>Residential</td>\n",
       "      <td>2014-12-27</td>\n",
       "      <td>2022</td>\n",
       "      <td>1</td>\n",
       "      <td>5.0</td>\n",
       "    </tr>\n",
       "  </tbody>\n",
       "</table>\n",
       "</div>"
      ],
      "text/plain": [
       "   Sale_ID       Date  Store_ID  Product_ID  Units      Product_Name  \\\n",
       "0        1 2022-01-01        24           4      1  Chutes & Ladders   \n",
       "1        2 2022-01-01        28           1      1     Action Figure   \n",
       "2        3 2022-01-01         6           8      1     Deck Of Cards   \n",
       "3        4 2022-01-01        48           7      1          Dart Gun   \n",
       "4        5 2022-01-01        44          18      1       Lego Bricks   \n",
       "\n",
       "    Product_Category  Product_Cost  Product_Price  \\\n",
       "0              Games          9.99          12.99   \n",
       "1               Toys          9.99          15.99   \n",
       "2              Games          3.99           6.99   \n",
       "3  Sports & Outdoors         11.99          15.99   \n",
       "4               Toys         34.99          39.99   \n",
       "\n",
       "                    Store_Name      Store_City Store_Location Store_Open_Date  \\\n",
       "0  Maven Toys Aguascalientes 1  Aguascalientes       Downtown      2010-07-31   \n",
       "1          Maven Toys Puebla 2          Puebla       Downtown      2011-04-01   \n",
       "2        Maven Toys Mexicali 1        Mexicali     Commercial      2003-12-13   \n",
       "3        Maven Toys Saltillo 2        Saltillo     Commercial      2016-03-23   \n",
       "4          Maven Toys Puebla 3          Puebla    Residential      2014-12-27   \n",
       "\n",
       "   Year  Month  Profit  \n",
       "0  2022      1     3.0  \n",
       "1  2022      1     6.0  \n",
       "2  2022      1     3.0  \n",
       "3  2022      1     4.0  \n",
       "4  2022      1     5.0  "
      ]
     },
     "execution_count": 9,
     "metadata": {},
     "output_type": "execute_result"
    }
   ],
   "source": [
    "# Extract Year and Month from 'Date'\n",
    "final_df['Year'] = final_df['Date'].dt.year\n",
    "final_df['Month'] = final_df['Date'].dt.month\n",
    "\n",
    "# Now let's inspect the DataFrame to ensure the transformations are correct\n",
    "final_df.head()\n"
   ]
  },
  {
   "cell_type": "code",
   "execution_count": null,
   "metadata": {},
   "outputs": [],
   "source": []
  },
  {
   "cell_type": "markdown",
   "metadata": {},
   "source": [
    " total sales by product category to see which category is performing well.\n"
   ]
  },
  {
   "cell_type": "code",
   "execution_count": 10,
   "metadata": {},
   "outputs": [
    {
     "data": {
      "image/png": "[encoded data removed]",
      "text/plain": [
       "<Figure size 1000x600 with 1 Axes>"
      ]
     },
     "metadata": {},
     "output_type": "display_data"
    }
   ],
   "source": [
    "import matplotlib.pyplot as plt\n",
    "import seaborn as sns\n",
    "# Total sales (Units) by Product Category\n",
    "plt.figure(figsize=(10, 6))\n",
    "sns.barplot(data=final_df, x='Product_Category', y='Units', estimator=sum)\n",
    "plt.title('Total Sales by Product Category')\n",
    "plt.show()\n"
   ]
  },
  {
   "cell_type": "code",
   "execution_count": 11,
   "metadata": {},
   "outputs": [
    {
     "data": {
      "image/png": "[encoded data removed]",
      "text/plain": [
       "<Figure size 1000x600 with 1 Axes>"
      ]
     },
     "metadata": {},
     "output_type": "display_data"
    }
   ],
   "source": [
    "# Total sales (Units) by Month\n",
    "plt.figure(figsize=(10, 6))\n",
    "sns.lineplot(data=final_df, x='Month', y='Units', estimator=sum)\n",
    "plt.title('Total Sales by Month')\n",
    "plt.show()\n"
   ]
  },
  {
   "cell_type": "code",
   "execution_count": null,
   "metadata": {},
   "outputs": [],
   "source": [
    "# Total profit by Product\n",
    "plt.figure(figsize=(12, 6))\n",
    "sns.barplot(data=final_df, x='Product_Name', y='Profit', estimator=sum)\n",
    "plt.title('Total Profit by Product')\n",
    "plt.xticks(rotation=45)\n",
    "plt.show()\n"
   ]
  },
  {
   "cell_type": "code",
   "execution_count": null,
   "metadata": {},
   "outputs": [
    {
     "data": {
      "text/plain": [
       "Index(['Sale_ID', 'Date', 'Store_ID', 'Product_ID', 'Units', 'Product_Name',\n",
       "       'Product_Category', 'Product_Cost', 'Product_Price', 'Store_Name',\n",
       "       'Store_City', 'Store_Location', 'Store_Open_Date', 'Year', 'Month',\n",
       "       'Profit'],\n",
       "      dtype='object')"
      ]
     },
     "execution_count": 13,
     "metadata": {},
     "output_type": "execute_result"
    }
   ],
   "source": [
    "final_df.columns"
   ]
  },
  {
   "cell_type": "code",
   "execution_count": null,
   "metadata": {},
   "outputs": [],
   "source": [
    "from sklearn.ensemble import RandomForestRegressor\n",
    "from sklearn.model_selection import train_test_split\n",
    "\n",
    "# Using the same features and target variable\n",
    "X = final_df[['Product_Cost', 'Product_Price']]\n",
    "y = final_df['Units']\n",
    "\n",
    "# Split the data into training and testing sets\n",
    "X_train, X_test, y_train, y_test = train_test_split(X, y, test_size=0.2, random_state=42)\n"
   ]
  },
  {
   "cell_type": "code",
   "execution_count": null,
   "metadata": {},
   "outputs": [],
   "source": [
    "# Instantiate the Random Forest Regressor\n",
    "rf_model = RandomForestRegressor(n_estimators=100, random_state=42)\n",
    "\n",
    "# Fit the model to the training data\n",
    "rf_model.fit(X_train, y_train)\n",
    "\n",
    "# Make predictions on the test set\n",
    "y_pred_rf = rf_model.predict(X_test)\n"
   ]
  },
  {
   "cell_type": "code",
   "execution_count": null,
   "metadata": {},
   "outputs": [
    {
     "name": "stdout",
     "output_type": "stream",
     "text": [
      "Random Forest Mean Squared Error: 0.6435769340355606\n",
      "Random Forest R-squared: 0.05284726033696985\n"
     ]
    }
   ],
   "source": [
    "from sklearn.metrics import mean_squared_error, r2_score\n",
    "# Evaluate the model\n",
    "mse_rf = mean_squared_error(y_test, y_pred_rf)\n",
    "r2_rf = r2_score(y_test, y_pred_rf)\n",
    "\n",
    "print(f'Random Forest Mean Squared Error: {mse_rf}')\n",
    "print(f'Random Forest R-squared: {r2_rf}')\n"
   ]
  },
  {
   "cell_type": "code",
   "execution_count": null,
   "metadata": {},
   "outputs": [
    {
     "data": {
      "text/plain": [
       "38236.0"
      ]
     },
     "execution_count": 17,
     "metadata": {},
     "output_type": "execute_result"
    }
   ],
   "source": [
    "final_df[final_df['Product_ID'] == 9]['Profit'].sum()"
   ]
  },
  {
   "cell_type": "code",
   "execution_count": 18,
   "metadata": {},
   "outputs": [
    {
     "data": {
      "image/png": "[encoded data removed]",
      "text/plain": [
       "<Figure size 1000x600 with 1 Axes>"
      ]
     },
     "metadata": {},
     "output_type": "display_data"
    },
    {
     "name": "stdout",
     "output_type": "stream",
     "text": [
      "Actual Price for the Foam Disk Launcher: $11.99\n",
      "Optimal Price for the Foam Disk Launcher: $20.00\n"
     ]
    }
   ],
   "source": [
    "import pandas as pd\n",
    "\n",
    "# Function to calculate profit for a given price\n",
    "def calculate_profit(cost, price, units_sold):\n",
    "    return (price - cost) * units_sold\n",
    "\n",
    "product_id = 12\n",
    "product = final_df[final_df['Product_ID'] == product_id]\n",
    "cost = product['Product_Cost'].values[0]\n",
    "\n",
    "# Simulate prices between $10 and $20\n",
    "price_points = np.linspace(10, 20, 50)\n",
    "\n",
    "profits_rf = []\n",
    "for price in price_points:\n",
    "    # Create a DataFrame for prediction to maintain feature names\n",
    "    input_data = pd.DataFrame([[cost, price]], columns=['Product_Cost', 'Product_Price'])\n",
    "    units_sold = rf_model.predict(input_data)[0]\n",
    "    profit = calculate_profit(cost, price, units_sold)\n",
    "    profits_rf.append(profit)\n",
    "\n",
    "# Plot profits for different price points using Random Forest predictions\n",
    "plt.figure(figsize=(10, 6))\n",
    "plt.plot(price_points, profits_rf)\n",
    "plt.title(f'Profit Optimization for {product[\"Product_Name\"].values[0]}')\n",
    "plt.xlabel(f'Price for {product[\"Product_Name\"].values[0]}')  # Updated x-axis label\n",
    "plt.ylabel('Profit')\n",
    "plt.axvline(x=price_points[np.argmax(profits_rf)], color='red', linestyle='--', label='Optimal Price')\n",
    "plt.legend()\n",
    "plt.show()\n",
    "\n",
    "\n",
    "# Optimal price point\n",
    "\n",
    "optimal_price_rf = price_points[np.argmax(profits_rf)]\n",
    "print(f'Actual Price for the {product['Product_Name'].values[0]}: ${product['Product_Price'].values[0]}')\n",
    "print(f'Optimal Price for the {product['Product_Name'].values[0]}: ${optimal_price_rf:.2f}')"
   ]
  },
  {
   "cell_type": "code",
   "execution_count": null,
   "metadata": {},
   "outputs": [],
   "source": []
  }
 ],
 "metadata": {
  "kernelspec": {
   "display_name": "Python 3",
   "language": "python",
   "name": "python3"
  },
  "language_info": {
   "codemirror_mode": {
    "name": "ipython",
    "version": 3
   },
   "file_extension": ".py",
   "mimetype": "text/x-python",
   "name": "python",
   "nbconvert_exporter": "python",
   "pygments_lexer": "ipython3",
   "version": "3.12.2"
  }
 },
 "nbformat": 4,
 "nbformat_minor": 2
}
